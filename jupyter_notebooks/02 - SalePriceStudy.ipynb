{
  "cells": [
    {
      "cell_type": "markdown",
      "metadata": {
        "id": "0aStgWSO0E0E"
      },
      "source": [
        "# Housing Sales Price Study Notebook"
      ]
    },
    {
      "cell_type": "markdown",
      "metadata": {
        "id": "1eLEkw5O0ECa"
      },
      "source": [
        "## Objectives\n",
        "*   Answer business requirement 1: \n",
        "    * The client is interested to understand the patterns from the house attributes, so the client can learn the most relevant variables that are correlated to  SalePrice.\n",
        "    * Visualize the relevant variables against the SalePrice.\n",
        "\n",
        "## Inputs\n",
        "\n",
        "* outputs/datasets/collection/HousePricing.csv\n",
        "\n",
        "## Outputs\n",
        "\n",
        "* generate code that answers business requirement 1 and can be used to build the Streamlit App\n",
        "\n",
        "## Additional\n",
        "\n",
        "* The study will be performed on the raw dataset.  "
      ]
    },
    {
      "cell_type": "markdown",
      "metadata": {
        "id": "9uWZXH9LwoQg"
      },
      "source": [
        "---"
      ]
    },
    {
      "cell_type": "markdown",
      "metadata": {},
      "source": [
        "# Change working directory"
      ]
    },
    {
      "cell_type": "markdown",
      "metadata": {},
      "source": [
        "We need to change the working directory from its current folder to its parent folder\n",
        "* We access the current directory with os.getcwd()"
      ]
    },
    {
      "cell_type": "code",
      "execution_count": 1,
      "metadata": {},
      "outputs": [
        {
          "data": {
            "text/plain": [
              "'/workspace/housing-pp5/jupyter_notebooks'"
            ]
          },
          "execution_count": 1,
          "metadata": {},
          "output_type": "execute_result"
        }
      ],
      "source": [
        "import os\n",
        "current_dir = os.getcwd()\n",
        "current_dir"
      ]
    },
    {
      "cell_type": "markdown",
      "metadata": {},
      "source": [
        "We want to make the parent of the current directory the new current directory\n",
        "* os.path.dirname() gets the parent directory\n",
        "* os.chir() defines the new current directory"
      ]
    },
    {
      "cell_type": "code",
      "execution_count": 2,
      "metadata": {},
      "outputs": [
        {
          "name": "stdout",
          "output_type": "stream",
          "text": [
            "You set a new current directory\n"
          ]
        }
      ],
      "source": [
        "os.chdir(os.path.dirname(current_dir))\n",
        "print(\"You set a new current directory\")"
      ]
    },
    {
      "cell_type": "markdown",
      "metadata": {},
      "source": [
        "Confirm the new current directory"
      ]
    },
    {
      "cell_type": "code",
      "execution_count": 3,
      "metadata": {},
      "outputs": [
        {
          "data": {
            "text/plain": [
              "'/workspace/housing-pp5'"
            ]
          },
          "execution_count": 3,
          "metadata": {},
          "output_type": "execute_result"
        }
      ],
      "source": [
        "current_dir = os.getcwd()\n",
        "current_dir"
      ]
    },
    {
      "cell_type": "markdown",
      "metadata": {},
      "source": [
        "### Import Libraries"
      ]
    },
    {
      "cell_type": "code",
      "execution_count": 4,
      "metadata": {},
      "outputs": [],
      "source": [
        "import numpy as np\n",
        "import pandas as pd\n",
        "import seaborn as sns\n",
        "import warnings\n",
        "import matplotlib.pyplot as plt\n",
        "%matplotlib inline\n",
        "warnings.filterwarnings('ignore')\n"
      ]
    },
    {
      "cell_type": "markdown",
      "metadata": {
        "id": "_tdAGw4Zwssu"
      },
      "source": [
        "---"
      ]
    },
    {
      "cell_type": "markdown",
      "metadata": {
        "id": "t2oPUd1K_qCr"
      },
      "source": [
        "# Load Data"
      ]
    },
    {
      "cell_type": "code",
      "execution_count": 5,
      "metadata": {
        "colab": {
          "base_uri": "https://localhost:8080/"
        },
        "id": "oqqga261_w4N",
        "outputId": "a936deda-749e-4926-c6a0-c857edfb43ae"
      },
      "outputs": [
        {
          "data": {
            "text/html": [
              "<div>\n",
              "<style scoped>\n",
              "    .dataframe tbody tr th:only-of-type {\n",
              "        vertical-align: middle;\n",
              "    }\n",
              "\n",
              "    .dataframe tbody tr th {\n",
              "        vertical-align: top;\n",
              "    }\n",
              "\n",
              "    .dataframe thead th {\n",
              "        text-align: right;\n",
              "    }\n",
              "</style>\n",
              "<table border=\"1\" class=\"dataframe\">\n",
              "  <thead>\n",
              "    <tr style=\"text-align: right;\">\n",
              "      <th></th>\n",
              "      <th>1stFlrSF</th>\n",
              "      <th>2ndFlrSF</th>\n",
              "      <th>BedroomAbvGr</th>\n",
              "      <th>BsmtExposure</th>\n",
              "      <th>BsmtFinSF1</th>\n",
              "      <th>BsmtFinType1</th>\n",
              "      <th>BsmtUnfSF</th>\n",
              "      <th>EnclosedPorch</th>\n",
              "      <th>GarageArea</th>\n",
              "      <th>GarageFinish</th>\n",
              "      <th>...</th>\n",
              "      <th>LotFrontage</th>\n",
              "      <th>MasVnrArea</th>\n",
              "      <th>OpenPorchSF</th>\n",
              "      <th>OverallCond</th>\n",
              "      <th>OverallQual</th>\n",
              "      <th>TotalBsmtSF</th>\n",
              "      <th>WoodDeckSF</th>\n",
              "      <th>YearBuilt</th>\n",
              "      <th>YearRemodAdd</th>\n",
              "      <th>SalePrice</th>\n",
              "    </tr>\n",
              "  </thead>\n",
              "  <tbody>\n",
              "    <tr>\n",
              "      <th>0</th>\n",
              "      <td>856</td>\n",
              "      <td>854.0</td>\n",
              "      <td>3.0</td>\n",
              "      <td>No</td>\n",
              "      <td>706</td>\n",
              "      <td>GLQ</td>\n",
              "      <td>150</td>\n",
              "      <td>0.0</td>\n",
              "      <td>548</td>\n",
              "      <td>RFn</td>\n",
              "      <td>...</td>\n",
              "      <td>65.0</td>\n",
              "      <td>196.0</td>\n",
              "      <td>61</td>\n",
              "      <td>5</td>\n",
              "      <td>7</td>\n",
              "      <td>856</td>\n",
              "      <td>0.0</td>\n",
              "      <td>2003</td>\n",
              "      <td>2003</td>\n",
              "      <td>208500</td>\n",
              "    </tr>\n",
              "    <tr>\n",
              "      <th>1</th>\n",
              "      <td>1262</td>\n",
              "      <td>0.0</td>\n",
              "      <td>3.0</td>\n",
              "      <td>Gd</td>\n",
              "      <td>978</td>\n",
              "      <td>ALQ</td>\n",
              "      <td>284</td>\n",
              "      <td>NaN</td>\n",
              "      <td>460</td>\n",
              "      <td>RFn</td>\n",
              "      <td>...</td>\n",
              "      <td>80.0</td>\n",
              "      <td>0.0</td>\n",
              "      <td>0</td>\n",
              "      <td>8</td>\n",
              "      <td>6</td>\n",
              "      <td>1262</td>\n",
              "      <td>NaN</td>\n",
              "      <td>1976</td>\n",
              "      <td>1976</td>\n",
              "      <td>181500</td>\n",
              "    </tr>\n",
              "    <tr>\n",
              "      <th>2</th>\n",
              "      <td>920</td>\n",
              "      <td>866.0</td>\n",
              "      <td>3.0</td>\n",
              "      <td>Mn</td>\n",
              "      <td>486</td>\n",
              "      <td>GLQ</td>\n",
              "      <td>434</td>\n",
              "      <td>0.0</td>\n",
              "      <td>608</td>\n",
              "      <td>RFn</td>\n",
              "      <td>...</td>\n",
              "      <td>68.0</td>\n",
              "      <td>162.0</td>\n",
              "      <td>42</td>\n",
              "      <td>5</td>\n",
              "      <td>7</td>\n",
              "      <td>920</td>\n",
              "      <td>NaN</td>\n",
              "      <td>2001</td>\n",
              "      <td>2002</td>\n",
              "      <td>223500</td>\n",
              "    </tr>\n",
              "    <tr>\n",
              "      <th>3</th>\n",
              "      <td>961</td>\n",
              "      <td>NaN</td>\n",
              "      <td>NaN</td>\n",
              "      <td>No</td>\n",
              "      <td>216</td>\n",
              "      <td>ALQ</td>\n",
              "      <td>540</td>\n",
              "      <td>NaN</td>\n",
              "      <td>642</td>\n",
              "      <td>Unf</td>\n",
              "      <td>...</td>\n",
              "      <td>60.0</td>\n",
              "      <td>0.0</td>\n",
              "      <td>35</td>\n",
              "      <td>5</td>\n",
              "      <td>7</td>\n",
              "      <td>756</td>\n",
              "      <td>NaN</td>\n",
              "      <td>1915</td>\n",
              "      <td>1970</td>\n",
              "      <td>140000</td>\n",
              "    </tr>\n",
              "    <tr>\n",
              "      <th>4</th>\n",
              "      <td>1145</td>\n",
              "      <td>NaN</td>\n",
              "      <td>4.0</td>\n",
              "      <td>Av</td>\n",
              "      <td>655</td>\n",
              "      <td>GLQ</td>\n",
              "      <td>490</td>\n",
              "      <td>0.0</td>\n",
              "      <td>836</td>\n",
              "      <td>RFn</td>\n",
              "      <td>...</td>\n",
              "      <td>84.0</td>\n",
              "      <td>350.0</td>\n",
              "      <td>84</td>\n",
              "      <td>5</td>\n",
              "      <td>8</td>\n",
              "      <td>1145</td>\n",
              "      <td>NaN</td>\n",
              "      <td>2000</td>\n",
              "      <td>2000</td>\n",
              "      <td>250000</td>\n",
              "    </tr>\n",
              "    <tr>\n",
              "      <th>...</th>\n",
              "      <td>...</td>\n",
              "      <td>...</td>\n",
              "      <td>...</td>\n",
              "      <td>...</td>\n",
              "      <td>...</td>\n",
              "      <td>...</td>\n",
              "      <td>...</td>\n",
              "      <td>...</td>\n",
              "      <td>...</td>\n",
              "      <td>...</td>\n",
              "      <td>...</td>\n",
              "      <td>...</td>\n",
              "      <td>...</td>\n",
              "      <td>...</td>\n",
              "      <td>...</td>\n",
              "      <td>...</td>\n",
              "      <td>...</td>\n",
              "      <td>...</td>\n",
              "      <td>...</td>\n",
              "      <td>...</td>\n",
              "      <td>...</td>\n",
              "    </tr>\n",
              "    <tr>\n",
              "      <th>1455</th>\n",
              "      <td>953</td>\n",
              "      <td>694.0</td>\n",
              "      <td>3.0</td>\n",
              "      <td>No</td>\n",
              "      <td>0</td>\n",
              "      <td>Unf</td>\n",
              "      <td>953</td>\n",
              "      <td>NaN</td>\n",
              "      <td>460</td>\n",
              "      <td>RFn</td>\n",
              "      <td>...</td>\n",
              "      <td>62.0</td>\n",
              "      <td>0.0</td>\n",
              "      <td>40</td>\n",
              "      <td>5</td>\n",
              "      <td>6</td>\n",
              "      <td>953</td>\n",
              "      <td>0.0</td>\n",
              "      <td>1999</td>\n",
              "      <td>2000</td>\n",
              "      <td>175000</td>\n",
              "    </tr>\n",
              "    <tr>\n",
              "      <th>1456</th>\n",
              "      <td>2073</td>\n",
              "      <td>0.0</td>\n",
              "      <td>NaN</td>\n",
              "      <td>No</td>\n",
              "      <td>790</td>\n",
              "      <td>ALQ</td>\n",
              "      <td>589</td>\n",
              "      <td>NaN</td>\n",
              "      <td>500</td>\n",
              "      <td>Unf</td>\n",
              "      <td>...</td>\n",
              "      <td>85.0</td>\n",
              "      <td>119.0</td>\n",
              "      <td>0</td>\n",
              "      <td>6</td>\n",
              "      <td>6</td>\n",
              "      <td>1542</td>\n",
              "      <td>NaN</td>\n",
              "      <td>1978</td>\n",
              "      <td>1988</td>\n",
              "      <td>210000</td>\n",
              "    </tr>\n",
              "    <tr>\n",
              "      <th>1457</th>\n",
              "      <td>1188</td>\n",
              "      <td>1152.0</td>\n",
              "      <td>4.0</td>\n",
              "      <td>No</td>\n",
              "      <td>275</td>\n",
              "      <td>GLQ</td>\n",
              "      <td>877</td>\n",
              "      <td>NaN</td>\n",
              "      <td>252</td>\n",
              "      <td>RFn</td>\n",
              "      <td>...</td>\n",
              "      <td>66.0</td>\n",
              "      <td>0.0</td>\n",
              "      <td>60</td>\n",
              "      <td>9</td>\n",
              "      <td>7</td>\n",
              "      <td>1152</td>\n",
              "      <td>NaN</td>\n",
              "      <td>1941</td>\n",
              "      <td>2006</td>\n",
              "      <td>266500</td>\n",
              "    </tr>\n",
              "    <tr>\n",
              "      <th>1458</th>\n",
              "      <td>1078</td>\n",
              "      <td>0.0</td>\n",
              "      <td>2.0</td>\n",
              "      <td>Mn</td>\n",
              "      <td>49</td>\n",
              "      <td>NaN</td>\n",
              "      <td>0</td>\n",
              "      <td>112.0</td>\n",
              "      <td>240</td>\n",
              "      <td>Unf</td>\n",
              "      <td>...</td>\n",
              "      <td>68.0</td>\n",
              "      <td>0.0</td>\n",
              "      <td>0</td>\n",
              "      <td>6</td>\n",
              "      <td>5</td>\n",
              "      <td>1078</td>\n",
              "      <td>NaN</td>\n",
              "      <td>1950</td>\n",
              "      <td>1996</td>\n",
              "      <td>142125</td>\n",
              "    </tr>\n",
              "    <tr>\n",
              "      <th>1459</th>\n",
              "      <td>1256</td>\n",
              "      <td>0.0</td>\n",
              "      <td>3.0</td>\n",
              "      <td>No</td>\n",
              "      <td>830</td>\n",
              "      <td>BLQ</td>\n",
              "      <td>136</td>\n",
              "      <td>0.0</td>\n",
              "      <td>276</td>\n",
              "      <td>Fin</td>\n",
              "      <td>...</td>\n",
              "      <td>75.0</td>\n",
              "      <td>0.0</td>\n",
              "      <td>68</td>\n",
              "      <td>6</td>\n",
              "      <td>5</td>\n",
              "      <td>1256</td>\n",
              "      <td>736.0</td>\n",
              "      <td>1965</td>\n",
              "      <td>1965</td>\n",
              "      <td>147500</td>\n",
              "    </tr>\n",
              "  </tbody>\n",
              "</table>\n",
              "<p>1460 rows × 24 columns</p>\n",
              "</div>"
            ],
            "text/plain": [
              "      1stFlrSF  2ndFlrSF  BedroomAbvGr BsmtExposure  BsmtFinSF1 BsmtFinType1  \\\n",
              "0          856     854.0           3.0           No         706          GLQ   \n",
              "1         1262       0.0           3.0           Gd         978          ALQ   \n",
              "2          920     866.0           3.0           Mn         486          GLQ   \n",
              "3          961       NaN           NaN           No         216          ALQ   \n",
              "4         1145       NaN           4.0           Av         655          GLQ   \n",
              "...        ...       ...           ...          ...         ...          ...   \n",
              "1455       953     694.0           3.0           No           0          Unf   \n",
              "1456      2073       0.0           NaN           No         790          ALQ   \n",
              "1457      1188    1152.0           4.0           No         275          GLQ   \n",
              "1458      1078       0.0           2.0           Mn          49          NaN   \n",
              "1459      1256       0.0           3.0           No         830          BLQ   \n",
              "\n",
              "      BsmtUnfSF  EnclosedPorch  GarageArea GarageFinish  ...  LotFrontage  \\\n",
              "0           150            0.0         548          RFn  ...         65.0   \n",
              "1           284            NaN         460          RFn  ...         80.0   \n",
              "2           434            0.0         608          RFn  ...         68.0   \n",
              "3           540            NaN         642          Unf  ...         60.0   \n",
              "4           490            0.0         836          RFn  ...         84.0   \n",
              "...         ...            ...         ...          ...  ...          ...   \n",
              "1455        953            NaN         460          RFn  ...         62.0   \n",
              "1456        589            NaN         500          Unf  ...         85.0   \n",
              "1457        877            NaN         252          RFn  ...         66.0   \n",
              "1458          0          112.0         240          Unf  ...         68.0   \n",
              "1459        136            0.0         276          Fin  ...         75.0   \n",
              "\n",
              "      MasVnrArea OpenPorchSF  OverallCond  OverallQual  TotalBsmtSF  \\\n",
              "0          196.0          61            5            7          856   \n",
              "1            0.0           0            8            6         1262   \n",
              "2          162.0          42            5            7          920   \n",
              "3            0.0          35            5            7          756   \n",
              "4          350.0          84            5            8         1145   \n",
              "...          ...         ...          ...          ...          ...   \n",
              "1455         0.0          40            5            6          953   \n",
              "1456       119.0           0            6            6         1542   \n",
              "1457         0.0          60            9            7         1152   \n",
              "1458         0.0           0            6            5         1078   \n",
              "1459         0.0          68            6            5         1256   \n",
              "\n",
              "      WoodDeckSF  YearBuilt  YearRemodAdd  SalePrice  \n",
              "0            0.0       2003          2003     208500  \n",
              "1            NaN       1976          1976     181500  \n",
              "2            NaN       2001          2002     223500  \n",
              "3            NaN       1915          1970     140000  \n",
              "4            NaN       2000          2000     250000  \n",
              "...          ...        ...           ...        ...  \n",
              "1455         0.0       1999          2000     175000  \n",
              "1456         NaN       1978          1988     210000  \n",
              "1457         NaN       1941          2006     266500  \n",
              "1458         NaN       1950          1996     142125  \n",
              "1459       736.0       1965          1965     147500  \n",
              "\n",
              "[1460 rows x 24 columns]"
            ]
          },
          "execution_count": 5,
          "metadata": {},
          "output_type": "execute_result"
        }
      ],
      "source": [
        "import pandas as pd\n",
        "df = pd.read_csv(\"outputs/datasets/collection/HousePricing.csv\")\n",
        "df"
      ]
    },
    {
      "cell_type": "markdown",
      "metadata": {
        "id": "xsBHpBFJ0ZFa"
      },
      "source": [
        "# Data Exploration"
      ]
    },
    {
      "cell_type": "markdown",
      "metadata": {},
      "source": [
        "We are interested to get more familiar with the dataset, check variable type and distribution, missing levels and what these variables mean in a business context"
      ]
    },
    {
      "cell_type": "code",
      "execution_count": 6,
      "metadata": {
        "id": "ncii4qR90aS1"
      },
      "outputs": [
        {
          "ename": "ModuleNotFoundError",
          "evalue": "No module named 'ydata_profiling'",
          "output_type": "error",
          "traceback": [
            "\u001b[0;31m---------------------------------------------------------------------------\u001b[0m",
            "\u001b[0;31mModuleNotFoundError\u001b[0m                       Traceback (most recent call last)",
            "Cell \u001b[0;32mIn[6], line 1\u001b[0m\n\u001b[0;32m----> 1\u001b[0m \u001b[38;5;28;01mfrom\u001b[39;00m \u001b[38;5;21;01mydata_profiling\u001b[39;00m \u001b[38;5;28;01mimport\u001b[39;00m ProfileReport\n\u001b[1;32m      2\u001b[0m pandas_report \u001b[38;5;241m=\u001b[39m ProfileReport(df\u001b[38;5;241m=\u001b[39mdf, minimal\u001b[38;5;241m=\u001b[39m\u001b[38;5;28;01mTrue\u001b[39;00m)\n\u001b[1;32m      3\u001b[0m pandas_report\u001b[38;5;241m.\u001b[39mto_notebook_iframe()\n",
            "\u001b[0;31mModuleNotFoundError\u001b[0m: No module named 'ydata_profiling'"
          ]
        }
      ],
      "source": [
        "from ydata_profiling import ProfileReport\n",
        "pandas_report = ProfileReport(df=df, minimal=True)\n",
        "pandas_report.to_notebook_iframe()"
      ]
    },
    {
      "cell_type": "markdown",
      "metadata": {
        "id": "DceTmVKMzHZV"
      },
      "source": [
        "# Correlation Study"
      ]
    },
    {
      "cell_type": "markdown",
      "metadata": {},
      "source": [
        "Correlation analysis function"
      ]
    },
    {
      "cell_type": "code",
      "execution_count": null,
      "metadata": {},
      "outputs": [],
      "source": [
        "def Correlation(df, method, key=False, ascending=True):\n",
        "    correlation = df.corr(method=method)['SalePrice'].sort_values(key=key, ascending=ascending)[1:]\n",
        "    \n",
        "    return correlation"
      ]
    },
    {
      "cell_type": "markdown",
      "metadata": {},
      "source": [
        "First we will have to replace `NaN` Values to be able to use the One hot Encoder"
      ]
    },
    {
      "cell_type": "code",
      "execution_count": null,
      "metadata": {},
      "outputs": [],
      "source": [
        "ohe = df.fillna('Missing', inplace=False)"
      ]
    },
    {
      "cell_type": "code",
      "execution_count": null,
      "metadata": {
        "colab": {
          "base_uri": "https://localhost:8080/",
          "height": 214
        },
        "id": "nLKtmzubuK2Z",
        "outputId": "a2698dac-c7f4-4d0f-febc-aca1c3cd7e4b"
      },
      "outputs": [],
      "source": [
        "from feature_engine.encoding import OneHotEncoder\n",
        "encoder = OneHotEncoder(variables=ohe.columns[ohe.dtypes=='object'].to_list(), drop_last=False)\n",
        "df_ohe = encoder.fit_transform(ohe)\n",
        "df_ohe.head(3)"
      ]
    },
    {
      "cell_type": "code",
      "execution_count": null,
      "metadata": {},
      "outputs": [],
      "source": [
        "spearman = Correlation(df_ohe, 'spearman', key=abs, ascending=False)\n",
        "plt.figure(figsize=(8,6))\n",
        "sns.barplot(x=spearman[:20].values, y=spearman[:20].index)\n",
        "plt.title('Spearman & Correlation with Sale Price')\n",
        "plt.xlabel('Correlation Coefficient')\n",
        "plt.ylabel('Features')\n",
        "plt.tight_layout()\n",
        "plt.show()\n"
      ]
    },
    {
      "cell_type": "code",
      "execution_count": null,
      "metadata": {},
      "outputs": [],
      "source": [
        "pearson = Correlation(df_ohe, 'pearson', key=abs,ascending=False)\n",
        "plt.figure(figsize=(8, 6))\n",
        "sns.barplot(x=pearson[:20].values, y=pearson[:20].index)\n",
        "plt.title('Pearson Correlation with Sale Price')\n",
        "plt.xlabel('Correlation Coefficient')\n",
        "plt.ylabel('Features')\n",
        "plt.tight_layout()\n",
        "plt.show()"
      ]
    },
    {
      "cell_type": "markdown",
      "metadata": {
        "id": "KHrTrQYO0px_"
      },
      "source": [
        "* We can se higher negative correlations that we will further explore \n",
        "\n",
        "We will consider the top positive and negative correlation levels at `df_ohe` and will study the associated variables at `df`"
      ]
    },
    {
      "cell_type": "markdown",
      "metadata": {
        "id": "0vz-wC9e2I-z"
      },
      "source": [
        "Therefore we are studying at df the following variables. We will investigate:\n",
        "\n",
        "Positive Correlation:\n",
        "* The Sale price with 1stFlrSF \n",
        "* The Sales Price with OverallQual\n",
        "* The Sales Price with GrLivArea\n",
        "* The Sales Price with GarageArea\n",
        "* The Sales Price with TotalBsmtSF\n",
        "* The Sales Price with YearBuilt \n",
        "\n",
        "Negative Correlation:\n",
        "* The Sale price with KitchenQual_TA\n",
        "* The Sales Price with GarageFinish_Unf\n",
        "* The Sales Price with MasVnrArea_0.0\n",
        "* The Sales Price with GarageYrBlt_Missing\n",
        "* The Sales Price with GarageFinish_None\n",
        "\n",
        "We will not furthur study 'YearRemodAdd' since we won't be able to determine if it's same as construction date if no remodeling or additions"
      ]
    },
    {
      "cell_type": "code",
      "execution_count": null,
      "metadata": {
        "colab": {
          "base_uri": "https://localhost:8080/"
        },
        "id": "iHKRE6E32NPv",
        "outputId": "39ab0829-d47b-4c62-e7e2-859574080737"
      },
      "outputs": [],
      "source": [
        "vars_to_study = [     \n",
        "    '1stFlrSF', 'GarageArea', \n",
        "    'GrLivArea', 'OverallQual', \n",
        "    'TotalBsmtSF', 'YearBuilt', \n",
        "]"
      ]
    },
    {
      "cell_type": "markdown",
      "metadata": {
        "id": "IV2d12vC0Puq"
      },
      "source": [
        "# EDA on selected variables"
      ]
    },
    {
      "cell_type": "code",
      "execution_count": null,
      "metadata": {
        "colab": {
          "base_uri": "https://localhost:8080/",
          "height": 419
        },
        "id": "wpIgK8rxAbdR",
        "outputId": "e11c7684-df93-4e53-b8e4-dd287c4ce915"
      },
      "outputs": [],
      "source": [
        "df_eda = df_ohe.filter(vars_to_study + ['SalePrice'])"
      ]
    },
    {
      "cell_type": "markdown",
      "metadata": {
        "id": "y7NNXfA10mx2"
      },
      "source": [
        "## Variables Distribution by SalePrice"
      ]
    },
    {
      "cell_type": "markdown",
      "metadata": {
        "id": "GIITMZ-3AGoY"
      },
      "source": [
        "- We plot the distribution by SalePrice  "
      ]
    },
    {
      "cell_type": "code",
      "execution_count": null,
      "metadata": {},
      "outputs": [],
      "source": [
        "plt.figure(figsize=(15,10))\n",
        "\n",
        "for i, attribute in enumerate(vars_to_study, 1):\n",
        "    plt.subplot(2,3, i)\n",
        "    sns.scatterplot(data=df_eda, x=df_eda[attribute], y=df['SalePrice'], hue='SalePrice')\n",
        "    plt.title(f'Sale Price vs. {attribute}')\n",
        "    plt.xlabel(attribute)\n",
        "    plt.ylabel('Sale Price')\n",
        "\n",
        "plt.tight_layout()\n",
        "plt.show()"
      ]
    },
    {
      "cell_type": "markdown",
      "metadata": {},
      "source": [
        "Now with the negative correlated variables"
      ]
    },
    {
      "cell_type": "code",
      "execution_count": null,
      "metadata": {},
      "outputs": [],
      "source": [
        "vars_to_study = ['KitchenQual_TA', 'GarageFinish_Unf',\n",
        "'MasVnrArea_0.0','GarageYrBlt_Missing',\n",
        "'GarageFinish_None']"
      ]
    },
    {
      "cell_type": "code",
      "execution_count": null,
      "metadata": {},
      "outputs": [],
      "source": [
        "df_eda = df_ohe.filter(vars_to_study + ['SalePrice'])"
      ]
    },
    {
      "cell_type": "code",
      "execution_count": null,
      "metadata": {},
      "outputs": [],
      "source": [
        "plt.figure(figsize=(20,15))\n",
        "for i, attribute in enumerate(vars_to_study, 1):\n",
        "    plt.subplot(3,3, i)\n",
        "    sns.barplot(data=df_eda, x=df_eda[attribute], y='SalePrice')\n",
        "    plt.xticks(rotation=90)\n",
        "    plt.title(f'Sale Price by {attribute}')\n",
        "    plt.xlabel(attribute)\n",
        "    plt.ylabel('Sale Price')\n",
        "\n",
        "\n",
        "plt.show()"
      ]
    },
    {
      "cell_type": "markdown",
      "metadata": {
        "id": "ua0-YwyMCtDy"
      },
      "source": [
        "---"
      ]
    },
    {
      "cell_type": "markdown",
      "metadata": {
        "id": "6jkAa1rpCLbY"
      },
      "source": [
        "# Conclusions and Next steps"
      ]
    },
    {
      "cell_type": "markdown",
      "metadata": {
        "id": "YX7YiPhWCNmc"
      },
      "source": [
        "**The correlations and plots interpretation converge.** \n",
        "\n",
        "**Top Positive correlated features**\n",
        "\n",
        "- Houses with larger garages (GarageArea) are likely to have a higher Sale Price, indicating that buyers value spacious garages.\n",
        "\n",
        "- An increase in total basement square footage (TotalBsmtSF) often leads to an increase in the Sale Price, which indicates that basement area is an important factor in house valuation.\n",
        "\n",
        "- The Sale Price tends to rise with the size of the first floor (1stFlrSF), which shows the significance of main-level living space in the housing market.\n",
        "\n",
        "- The Sale Price tends to be higher for houses with better Overall Quality (OverallQual), affirming that quality is a crucial determinant of property value.\n",
        "\n",
        "- An increase in above-grade living area (GrLivArea) leads to a rise in the Sale Price, which reflects the market's valuation of living space.\n",
        "\n",
        "- The sale price tends to increase the more up to date the year that they were built (YearBuilt). \n",
        "\n",
        "**Top Negative correlated features**\n",
        "\n",
        "- 'KitchenQual_TA' indicates that the Sale Price of houses with average kitchen quality tends to decrease.\n",
        "\n",
        "- The Sale Price is typically lower when the garage is not finished, as shown by 'GarageFinish_Unf'.\n",
        "\n",
        "- Houses without any masonry veneer area tend to have a lower Sale Price, indicated by 'MasVnrArea_0.0'.\n",
        "\n",
        "- Houses missing the records of the year the garage was built tend to have a decrease on the Sale Price, as shown by 'GarageYrBlt_Missing'.\n",
        "\n",
        "- The Sale Price usually decreases on houses without garages,  based on 'GarageFinish_None'.\n",
        "\n",
        "**Buyers are willing to pay premiums for more space and higher quality in homes, as these patterns demonstrate the significance of size and quality in valuation.**"
      ]
    },
    {
      "cell_type": "markdown",
      "metadata": {
        "id": "vVOqV5ADZjD1"
      },
      "source": [
        "---"
      ]
    }
  ],
  "metadata": {
    "accelerator": "GPU",
    "colab": {
      "name": "Data Practitioner Jupyter Notebook.ipynb",
      "provenance": []
    },
    "interpreter": {
      "hash": "8b8334dab9339717f727a1deaf837b322d7a41c20d15cc86be99a8e69ceec8ce"
    },
    "kernelspec": {
      "display_name": "Python 3.8.12 64-bit ('3.8.12': pyenv)",
      "name": "python3"
    },
    "language_info": {
      "codemirror_mode": {
        "name": "ipython",
        "version": 3
      },
      "file_extension": ".py",
      "mimetype": "text/x-python",
      "name": "python",
      "nbconvert_exporter": "python",
      "pygments_lexer": "ipython3",
      "version": "3.8.18"
    },
    "orig_nbformat": 2
  },
  "nbformat": 4,
  "nbformat_minor": 2
}
